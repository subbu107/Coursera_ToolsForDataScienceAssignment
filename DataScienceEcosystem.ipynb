{
 "cells": [
  {
   "cell_type": "markdown",
   "id": "6ef7bb1a",
   "metadata": {},
   "source": [
    "# Data Science Tools and Ecosystem"
   ]
  },
  {
   "cell_type": "markdown",
   "id": "eb39469e",
   "metadata": {},
   "source": [
    "In this notebook, Data Science Tools and Ecosystem are summarized."
   ]
  },
  {
   "cell_type": "markdown",
   "id": "e3fb9546",
   "metadata": {},
   "source": [
    "Some of the popular languages that Data Scientits use are: \n",
    "1. Python\n",
    "2. R\n",
    "3. Julia\n",
    "4. Scala"
   ]
  },
  {
   "cell_type": "code",
   "execution_count": null,
   "id": "2411c0fd",
   "metadata": {},
   "outputs": [],
   "source": [
    "Some of the commonly used libraries used by Data Scientists include:\n",
    "1. NumPy\n",
    "2. Scipy\n",
    "3. Pandas\n",
    "4. scikit-learn\n",
    "5. TensorFlow\n",
    "6. PyTorch\n",
    "    "
   ]
  },
  {
   "cell_type": "markdown",
   "id": "bde06ac0",
   "metadata": {},
   "source": [
    "|Data Science tools|\n",
    "| --- |\n",
    "|Jupyter Notebook|\n",
    "|RStudio|\n",
    "|Jupyter Lab|\n",
    "|Spyder|"
   ]
  },
  {
   "cell_type": "markdown",
   "id": "0046f045",
   "metadata": {},
   "source": [
    "### Below are a few examples of evaluating arithmetic expressions in Python"
   ]
  },
  {
   "cell_type": "code",
   "execution_count": 3,
   "id": "424de858",
   "metadata": {},
   "outputs": [
    {
     "data": {
      "text/plain": [
       "17"
      ]
     },
     "execution_count": 3,
     "metadata": {},
     "output_type": "execute_result"
    }
   ],
   "source": [
    "# This a simple arithmetic expression to mutiply then add integers\n",
    "(3*4)+5\n"
   ]
  },
  {
   "cell_type": "code",
   "execution_count": 5,
   "id": "b7fdd52c",
   "metadata": {},
   "outputs": [
    {
     "name": "stdout",
     "output_type": "stream",
     "text": [
      "3.3333333333333335\n"
     ]
    }
   ],
   "source": [
    "# This will convert 200 minutes to hours by diving by 60\n",
    "minutes=200\n",
    "hours=200/60\n",
    "print(hours)"
   ]
  },
  {
   "cell_type": "markdown",
   "id": "e6e8f5a7",
   "metadata": {},
   "source": [
    "**Objectives**\n",
    "* List popular languages for Data Science\n",
    "* List popular libraries for Data Science\n",
    "* List tools for Data Science\n",
    "* Show examples of evaluating arithmetic expressions in Python"
   ]
  },
  {
   "cell_type": "markdown",
   "id": "c9534845",
   "metadata": {},
   "source": [
    "## Author\n",
    "Subramanyam Ramanathan"
   ]
  },
  {
   "cell_type": "code",
   "execution_count": null,
   "id": "68cf46a1",
   "metadata": {},
   "outputs": [],
   "source": []
  }
 ],
 "metadata": {
  "kernelspec": {
   "display_name": "Python 3 (ipykernel)",
   "language": "python",
   "name": "python3"
  },
  "language_info": {
   "codemirror_mode": {
    "name": "ipython",
    "version": 3
   },
   "file_extension": ".py",
   "mimetype": "text/x-python",
   "name": "python",
   "nbconvert_exporter": "python",
   "pygments_lexer": "ipython3",
   "version": "3.7.1"
  }
 },
 "nbformat": 4,
 "nbformat_minor": 5
}
